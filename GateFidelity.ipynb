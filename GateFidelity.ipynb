{
 "cells": [
  {
   "cell_type": "code",
   "execution_count": 2,
   "id": "556c7987",
   "metadata": {},
   "outputs": [
    {
     "data": {
      "text/latex": [
       "$$\n",
       "\n",
       "\\begin{bmatrix}\n",
       "\\frac{\\sqrt{2}}{2} & \\frac{\\sqrt{2}}{2}  \\\\\n",
       " \\frac{\\sqrt{2}}{2} & - \\frac{\\sqrt{2}}{2}  \\\\\n",
       " \\end{bmatrix}\n",
       "$$"
      ],
      "text/plain": [
       "<IPython.core.display.Latex object>"
      ]
     },
     "execution_count": 2,
     "metadata": {},
     "output_type": "execute_result"
    }
   ],
   "source": [
    "from qiskit import QuantumCircuit\n",
    "import qiskit.quantum_info as qi\n",
    "qc = QuantumCircuit(1)\n",
    "\n",
    "qc.h(0)\n",
    "\n",
    "h_ideal = qi.Operator(qc)\n",
    "\n",
    "from qiskit.visualization import array_to_latex\n",
    "array_to_latex(h_ideal)"
   ]
  },
  {
   "cell_type": "code",
   "execution_count": 3,
   "id": "815c1f8b",
   "metadata": {},
   "outputs": [],
   "source": [
    "from qiskit.providers.aer import AerSimulator\n",
    "from qiskit.providers.fake_provider import FakeVigo\n",
    "\n",
    "backend = AerSimulator.from_backend(FakeVigo())"
   ]
  },
  {
   "cell_type": "code",
   "execution_count": 4,
   "id": "017f379c",
   "metadata": {},
   "outputs": [
    {
     "data": {
      "image/png": "[encoded data removed]",
      "text/plain": [
       "<Figure size 499.904x451.5 with 1 Axes>"
      ]
     },
     "execution_count": 4,
     "metadata": {},
     "output_type": "execute_result"
    }
   ],
   "source": [
    "from qiskit import transpile\n",
    "tqc = transpile(qc, backend)\n",
    "tqc.draw(\"mpl\")"
   ]
  },
  {
   "cell_type": "code",
   "execution_count": 6,
   "id": "be0c1047",
   "metadata": {},
   "outputs": [
    {
     "name": "stderr",
     "output_type": "stream",
     "text": [
      "C:\\Users\\AssafHillel\\AppData\\Local\\Temp\\ipykernel_13028\\3440440968.py:2: DeprecationWarning: ProcessTomography.__init__ keyword argument qubits is deprecated and will be removed after Qiskit Experiments 0.5. It is now replaced with physical_qubits. \n",
      "  qptexp = ProcessTomography(qc, qubits=[0])\n"
     ]
    },
    {
     "ename": "ExperimentEntryNotFound",
     "evalue": "'Analysis result statk not found.'",
     "output_type": "error",
     "traceback": [
      "\u001b[1;31m---------------------------------------------------------------------------\u001b[0m",
      "\u001b[1;31mExperimentEntryNotFound\u001b[0m                   Traceback (most recent call last)",
      "Cell \u001b[1;32mIn[6], line 5\u001b[0m\n\u001b[0;32m      2\u001b[0m qptexp \u001b[38;5;241m=\u001b[39m ProcessTomography(qc, qubits\u001b[38;5;241m=\u001b[39m[\u001b[38;5;241m0\u001b[39m])\n\u001b[0;32m      4\u001b[0m qptdata \u001b[38;5;241m=\u001b[39m qptexp\u001b[38;5;241m.\u001b[39mrun(backend) \u001b[38;5;241m.\u001b[39mblock_for_results()\n\u001b[1;32m----> 5\u001b[0m h_noisy \u001b[38;5;241m=\u001b[39m \u001b[43mqptdata\u001b[49m\u001b[38;5;241;43m.\u001b[39;49m\u001b[43manalysis_results\u001b[49m\u001b[43m(\u001b[49m\u001b[38;5;124;43m\"\u001b[39;49m\u001b[38;5;124;43mstatk\u001b[39;49m\u001b[38;5;124;43m\"\u001b[39;49m\u001b[43m)\u001b[49m\u001b[38;5;241m.\u001b[39mvalue\n\u001b[0;32m      6\u001b[0m array_to_latex(h_noisy)\n",
      "File \u001b[1;32m~\\anaconda3\\envs\\cwq\\lib\\site-packages\\qiskit_experiments\\framework\\experiment_data.py:1303\u001b[0m, in \u001b[0;36mExperimentData.analysis_results\u001b[1;34m(self, index, refresh, block, timeout)\u001b[0m\n\u001b[0;32m   1299\u001b[0m filtered \u001b[38;5;241m=\u001b[39m [\n\u001b[0;32m   1300\u001b[0m     result \u001b[38;5;28;01mfor\u001b[39;00m result \u001b[38;5;129;01min\u001b[39;00m \u001b[38;5;28mself\u001b[39m\u001b[38;5;241m.\u001b[39m_analysis_results\u001b[38;5;241m.\u001b[39mvalues() \u001b[38;5;28;01mif\u001b[39;00m result\u001b[38;5;241m.\u001b[39mname \u001b[38;5;241m==\u001b[39m index\n\u001b[0;32m   1301\u001b[0m ]\n\u001b[0;32m   1302\u001b[0m \u001b[38;5;28;01mif\u001b[39;00m \u001b[38;5;129;01mnot\u001b[39;00m filtered:\n\u001b[1;32m-> 1303\u001b[0m     \u001b[38;5;28;01mraise\u001b[39;00m ExperimentEntryNotFound(_make_not_found_message(index))\n\u001b[0;32m   1304\u001b[0m \u001b[38;5;28;01mif\u001b[39;00m \u001b[38;5;28mlen\u001b[39m(filtered) \u001b[38;5;241m==\u001b[39m \u001b[38;5;241m1\u001b[39m:\n\u001b[0;32m   1305\u001b[0m     \u001b[38;5;28;01mreturn\u001b[39;00m filtered[\u001b[38;5;241m0\u001b[39m]\n",
      "\u001b[1;31mExperimentEntryNotFound\u001b[0m: 'Analysis result statk not found.'"
     ]
    }
   ],
   "source": [
    "from qiskit_experiments.library import ProcessTomography\n",
    "qptexp = ProcessTomography(qc, qubits=[0])\n",
    "\n",
    "qptdata = qptexp.run(backend) .block_for_results()\n",
    "h_noisy = qptdata.analysis_results(\"statk\").value\n",
    "array_to_latex(h_noisy)"
   ]
  },
  {
   "cell_type": "code",
   "execution_count": null,
   "id": "dbd09211",
   "metadata": {},
   "outputs": [],
   "source": [
    "f = qi.average_gate_fidelity(h_noisy, target=h_ideal)\n",
    "print(f)"
   ]
  },
  {
   "cell_type": "code",
   "execution_count": null,
   "id": "8638f39e",
   "metadata": {},
   "outputs": [],
   "source": []
  }
 ],
 "metadata": {
  "kernelspec": {
   "display_name": "Python 3 (ipykernel)",
   "language": "python",
   "name": "python3"
  },
  "language_info": {
   "codemirror_mode": {
    "name": "ipython",
    "version": 3
   },
   "file_extension": ".py",
   "mimetype": "text/x-python",
   "name": "python",
   "nbconvert_exporter": "python",
   "pygments_lexer": "ipython3",
   "version": "3.8.16"
  }
 },
 "nbformat": 4,
 "nbformat_minor": 5
}
