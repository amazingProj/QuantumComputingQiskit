{
 "cells": [
  {
   "cell_type": "code",
   "execution_count": 9,
   "id": "7ef1b411",
   "metadata": {},
   "outputs": [],
   "source": [
    "from qiskit_ibm_provider import IBMProvider\n",
    "IBMProvider.save_account('f4ff8b579fea0cd17500e9638f711a685bf3b399f8637a6734e66cb6453d3500a634b4456043973e7d79695c22b5d40282e618f6ba7f106cd0e5d7cccfbf73c0')\n",
    "provider = IBMProvider(instance = 'ibm-q/open/main')"
   ]
  },
  {
   "cell_type": "code",
   "execution_count": 16,
   "id": "f22aee1b",
   "metadata": {},
   "outputs": [
    {
     "data": {
      "text/plain": [
       "[<IBMBackend('ibmq_quito')>,\n",
       " <IBMBackend('ibmq_jakarta')>,\n",
       " <IBMBackend('ibmq_manila')>,\n",
       " <IBMBackend('ibm_lagos')>,\n",
       " <IBMBackend('ibm_oslo')>,\n",
       " <IBMBackend('ibm_perth')>,\n",
       " <IBMBackend('ibmq_lima')>,\n",
       " <IBMBackend('ibmq_belem')>,\n",
       " <IBMBackend('ibm_nairobi')>]"
      ]
     },
     "execution_count": 16,
     "metadata": {},
     "output_type": "execute_result"
    }
   ],
   "source": [
    "from qiskit_ibm_provider import least_busy\n",
    "[b for b in provider.backends() if not b.configuration().simulator]"
   ]
  },
  {
   "cell_type": "code",
   "execution_count": 23,
   "id": "90dbba1b",
   "metadata": {},
   "outputs": [
    {
     "data": {
      "text/plain": [
       "[]"
      ]
     },
     "execution_count": 23,
     "metadata": {},
     "output_type": "execute_result"
    }
   ],
   "source": [
    "provider.backends(\n",
    "    filter=lambda b: not b.configuration().simulator\n",
    "                     and b.configuration().num_qubits > 5\n",
    ")\n"
   ]
  },
  {
   "cell_type": "code",
   "execution_count": 18,
   "id": "610476c8",
   "metadata": {},
   "outputs": [],
   "source": [
    "backends = [b for b in provider.backends() if not b.configuration().simulator]"
   ]
  },
  {
   "cell_type": "code",
   "execution_count": 32,
   "id": "3767e28c",
   "metadata": {},
   "outputs": [
    {
     "name": "stdout",
     "output_type": "stream",
     "text": [
      "Lowest cx error is between qubits [0, 1] in 'ibmq_quito' (error: 0.00883)\n",
      "Lowest cx error is between qubits [0, 1] in 'ibmq_jakarta' (error: 0.00780)\n",
      "Lowest cx error is between qubits [3, 5] in 'ibmq_jakarta' (error: 0.00520)\n",
      "Lowest cx error is between qubits [1, 3] in 'ibm_lagos' (error: 0.00518)\n"
     ]
    }
   ],
   "source": [
    "min_gate_error = 1\n",
    "for backend in backends:\n",
    "    if 'cx' not in backend.configuration().basis_gates:\n",
    "    \tcontinue\n",
    "    for qubit_pair in backend.configuration().coupling_map:\n",
    "        gate_error = backend.properties().gate_error('cx', qubit_pair)\n",
    "        if gate_error < min_gate_error:\n",
    "            min_gate_error = gate_error\n",
    "            best_qubits = qubit_pair\n",
    "            best_backend = backend\n",
    "            print(f\"Lowest cx error is between qubits {best_qubits} in '{best_backend.name}' (error: {min_gate_error:.5f})\")\n"
   ]
  },
  {
   "cell_type": "code",
   "execution_count": null,
   "id": "a4b5e839",
   "metadata": {},
   "outputs": [],
   "source": [
    "from qiskit import QuantumCircuit, Aer, transpile, assemble\n",
    "from qiskit.visualization import plot_histogram\n",
    "from qiskit import IBMQ\n",
    "from qiskit.providers.ibmq import least_busy\n",
    "\n",
    "# Load IBMQ account\n",
    "IBMQ.load_account()\n",
    "\n",
    "# Choose the backend\n",
    "backend = IBMQ.get_provider().get_backend('ibm_lagos')\n",
    "\n",
    "# Define quantum circuit\n",
    "qc = QuantumCircuit(2)\n",
    "qc.h(0)  # Apply Hadamard gate to qubit 0\n",
    "\n",
    "# Transpile the circuit for the chosen backend\n",
    "qc_transpiled = transpile(qc, backend=backend)\n",
    "\n",
    "# Assemble the transpiled circuit into a Qobj\n",
    "qobj = assemble(qc_transpiled)\n",
    "\n",
    "# Submit the job to the backend and wait for results\n",
    "job = backend.run(qobj)\n",
    "job_result = job.result()\n",
    "\n",
    "# Get the counts from the result\n",
    "counts = job_result.get_counts()\n",
    "print(counts)\n",
    "\n",
    "# Plot the histogram of the measurement outcomes\n",
    "plot_histogram(counts)\n"
   ]
  },
  {
   "cell_type": "code",
   "execution_count": null,
   "id": "ce32ac59",
   "metadata": {},
   "outputs": [],
   "source": []
  }
 ],
 "metadata": {
  "kernelspec": {
   "display_name": "Python 3 (ipykernel)",
   "language": "python",
   "name": "python3"
  },
  "language_info": {
   "codemirror_mode": {
    "name": "ipython",
    "version": 3
   },
   "file_extension": ".py",
   "mimetype": "text/x-python",
   "name": "python",
   "nbconvert_exporter": "python",
   "pygments_lexer": "ipython3",
   "version": "3.8.16"
  }
 },
 "nbformat": 4,
 "nbformat_minor": 5
}
