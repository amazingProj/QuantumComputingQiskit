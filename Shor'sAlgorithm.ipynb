{
 "cells": [
  {
   "cell_type": "code",
   "execution_count": 4,
   "id": "13061889",
   "metadata": {},
   "outputs": [],
   "source": [
    "from qiskit import QuantumCircuit, Aer, transpile, assemble, QuantumRegister, ClassicalRegister\n",
    "from qiskit.visualization import plot_histogram\n",
    "from qiskit.extensions import UnitaryGate"
   ]
  },
  {
   "cell_type": "code",
   "execution_count": 5,
   "id": "cb960f27",
   "metadata": {},
   "outputs": [],
   "source": [
    "def modular_exp(a, N):\n",
    "    U = QuantumCircuit(3)\n",
    "    for i in range(2**3):\n",
    "        U.append(Operator(np.array([[a**i % N, 0], [0, a**i % N]])), [2])\n",
    "    return U.to_gate()\n"
   ]
  },
  {
   "cell_type": "code",
   "execution_count": 6,
   "id": "33b49936",
   "metadata": {},
   "outputs": [],
   "source": [
    "def qft(n):\n",
    "    qc = QuantumCircuit(n)\n",
    "    for i in range(n):\n",
    "        qc.h(i)\n",
    "        for j in range(i+1, n):\n",
    "            qc.cp(2*np.pi/float(2**(j-i+1)), j, i)\n",
    "    return qc.to_gate()"
   ]
  },
  {
   "cell_type": "code",
   "execution_count": 7,
   "id": "91729231",
   "metadata": {},
   "outputs": [],
   "source": [
    "def shor_algorithm(N, a):\n",
    "    n = N.bit_length()\n",
    "    \n",
    "    # Step 1: Prepare the register\n",
    "    qreg = QuantumRegister(2*n)\n",
    "    creg = ClassicalRegister(n)\n",
    "    qc = QuantumCircuit(qreg, creg)\n",
    "    \n",
    "    # Step 2: Apply Hadamard gates to the first register\n",
    "    qc.h(range(n))\n",
    "    \n",
    "    # Step 3: Modular exponentiation\n",
    "    for i in range(n):\n",
    "        qc.append(modular_exp(a, N), qreg[::-1])\n",
    "    \n",
    "    # Step 4: Quantum Fourier Transform (QFT) on the first register\n",
    "    qc.append(qft(n).inverse(), qreg[:n])\n",
    "    qc.measure(qreg[:n], creg)\n",
    "    \n",
    "    # Step 5: Run on quantum simulator\n",
    "    backend = Aer.get_backend('qasm_simulator')\n",
    "    t_qc = transpile(qc, backend)\n",
    "    qobj = assemble(t_qc)\n",
    "    job = backend.run(qobj)\n",
    "    result = job.result()\n",
    "    counts = result.get_counts()\n",
    "    \n",
    "    return counts"
   ]
  },
  {
   "cell_type": "code",
   "execution_count": 8,
   "id": "4a54f063",
   "metadata": {},
   "outputs": [
    {
     "ename": "NameError",
     "evalue": "name 'Operator' is not defined",
     "output_type": "error",
     "traceback": [
      "\u001b[1;31m---------------------------------------------------------------------------\u001b[0m",
      "\u001b[1;31mNameError\u001b[0m                                 Traceback (most recent call last)",
      "Cell \u001b[1;32mIn[8], line 4\u001b[0m\n\u001b[0;32m      2\u001b[0m N \u001b[38;5;241m=\u001b[39m \u001b[38;5;241m15\u001b[39m  \u001b[38;5;66;03m# Number to be factored\u001b[39;00m\n\u001b[0;32m      3\u001b[0m a \u001b[38;5;241m=\u001b[39m \u001b[38;5;241m7\u001b[39m   \u001b[38;5;66;03m# Randomly chosen value for 'a'\u001b[39;00m\n\u001b[1;32m----> 4\u001b[0m counts \u001b[38;5;241m=\u001b[39m \u001b[43mshor_algorithm\u001b[49m\u001b[43m(\u001b[49m\u001b[43mN\u001b[49m\u001b[43m,\u001b[49m\u001b[43m \u001b[49m\u001b[43ma\u001b[49m\u001b[43m)\u001b[49m\n\u001b[0;32m      5\u001b[0m \u001b[38;5;28mprint\u001b[39m(\u001b[38;5;124m\"\u001b[39m\u001b[38;5;124mMeasurement results: \u001b[39m\u001b[38;5;124m\"\u001b[39m, counts)\n",
      "Cell \u001b[1;32mIn[7], line 14\u001b[0m, in \u001b[0;36mshor_algorithm\u001b[1;34m(N, a)\u001b[0m\n\u001b[0;32m     12\u001b[0m \u001b[38;5;66;03m# Step 3: Modular exponentiation\u001b[39;00m\n\u001b[0;32m     13\u001b[0m \u001b[38;5;28;01mfor\u001b[39;00m i \u001b[38;5;129;01min\u001b[39;00m \u001b[38;5;28mrange\u001b[39m(n):\n\u001b[1;32m---> 14\u001b[0m     qc\u001b[38;5;241m.\u001b[39mappend(\u001b[43mmodular_exp\u001b[49m\u001b[43m(\u001b[49m\u001b[43ma\u001b[49m\u001b[43m,\u001b[49m\u001b[43m \u001b[49m\u001b[43mN\u001b[49m\u001b[43m)\u001b[49m, qreg[::\u001b[38;5;241m-\u001b[39m\u001b[38;5;241m1\u001b[39m])\n\u001b[0;32m     16\u001b[0m \u001b[38;5;66;03m# Step 4: Quantum Fourier Transform (QFT) on the first register\u001b[39;00m\n\u001b[0;32m     17\u001b[0m qc\u001b[38;5;241m.\u001b[39mappend(qft(n)\u001b[38;5;241m.\u001b[39minverse(), qreg[:n])\n",
      "Cell \u001b[1;32mIn[5], line 4\u001b[0m, in \u001b[0;36mmodular_exp\u001b[1;34m(a, N)\u001b[0m\n\u001b[0;32m      2\u001b[0m U \u001b[38;5;241m=\u001b[39m QuantumCircuit(\u001b[38;5;241m3\u001b[39m)\n\u001b[0;32m      3\u001b[0m \u001b[38;5;28;01mfor\u001b[39;00m i \u001b[38;5;129;01min\u001b[39;00m \u001b[38;5;28mrange\u001b[39m(\u001b[38;5;241m2\u001b[39m\u001b[38;5;241m*\u001b[39m\u001b[38;5;241m*\u001b[39m\u001b[38;5;241m3\u001b[39m):\n\u001b[1;32m----> 4\u001b[0m     U\u001b[38;5;241m.\u001b[39mappend(\u001b[43mOperator\u001b[49m(np\u001b[38;5;241m.\u001b[39marray([[a\u001b[38;5;241m*\u001b[39m\u001b[38;5;241m*\u001b[39mi \u001b[38;5;241m%\u001b[39m N, \u001b[38;5;241m0\u001b[39m], [\u001b[38;5;241m0\u001b[39m, a\u001b[38;5;241m*\u001b[39m\u001b[38;5;241m*\u001b[39mi \u001b[38;5;241m%\u001b[39m N]])), [\u001b[38;5;241m2\u001b[39m])\n\u001b[0;32m      5\u001b[0m \u001b[38;5;28;01mreturn\u001b[39;00m U\u001b[38;5;241m.\u001b[39mto_gate()\n",
      "\u001b[1;31mNameError\u001b[0m: name 'Operator' is not defined"
     ]
    }
   ],
   "source": [
    "# Example usage\n",
    "N = 15  # Number to be factored\n",
    "a = 7   # Randomly chosen value for 'a'\n",
    "counts = shor_algorithm(N, a)\n",
    "print(\"Measurement results: \", counts)"
   ]
  },
  {
   "cell_type": "code",
   "execution_count": null,
   "id": "821cd344",
   "metadata": {},
   "outputs": [],
   "source": []
  }
 ],
 "metadata": {
  "kernelspec": {
   "display_name": "Python 3 (ipykernel)",
   "language": "python",
   "name": "python3"
  },
  "language_info": {
   "codemirror_mode": {
    "name": "ipython",
    "version": 3
   },
   "file_extension": ".py",
   "mimetype": "text/x-python",
   "name": "python",
   "nbconvert_exporter": "python",
   "pygments_lexer": "ipython3",
   "version": "3.8.16"
  }
 },
 "nbformat": 4,
 "nbformat_minor": 5
}
